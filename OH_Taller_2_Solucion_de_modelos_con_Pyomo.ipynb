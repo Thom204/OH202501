{
  "nbformat": 4,
  "nbformat_minor": 0,
  "metadata": {
    "colab": {
      "provenance": [],
      "include_colab_link": true
    },
    "kernelspec": {
      "name": "python3",
      "display_name": "Python 3"
    },
    "language_info": {
      "name": "python"
    }
  },
  "cells": [
    {
      "cell_type": "markdown",
      "metadata": {
        "id": "view-in-github",
        "colab_type": "text"
      },
      "source": [
        "<a href=\"https://colab.research.google.com/github/spalominor/OH202501/blob/main/OH_Taller_2_Solucion_de_modelos_con_Pyomo.ipynb\" target=\"_parent\"><img src=\"https://colab.research.google.com/assets/colab-badge.svg\" alt=\"Open In Colab\"/></a>"
      ]
    },
    {
      "cell_type": "markdown",
      "source": [
        "## Solución Taller 2 Optimización Heurística\n",
        "# Integrantes\n",
        "- Samuel Palomino Restrepo\n",
        "- Felipe Garzón Melguizo\n",
        "\n"
      ],
      "metadata": {
        "id": "IwZoXlX9qmRF"
      }
    },
    {
      "cell_type": "markdown",
      "source": [
        "Instalar las dependencias necesarias\n"
      ],
      "metadata": {
        "id": "NK1ntSMBXDB3"
      }
    },
    {
      "cell_type": "code",
      "execution_count": 1,
      "metadata": {
        "id": "6uhjEKCsWn84",
        "colab": {
          "base_uri": "https://localhost:8080/"
        },
        "outputId": "a126d47b-62c7-47ec-dd89-d8462570f4f3",
        "collapsed": true
      },
      "outputs": [
        {
          "output_type": "stream",
          "name": "stdout",
          "text": [
            "Selecting previously unselected package libsuitesparseconfig5:amd64.\n",
            "(Reading database ... 126333 files and directories currently installed.)\n",
            "Preparing to unpack .../libsuitesparseconfig5_1%3a5.10.1+dfsg-4build1_amd64.deb ...\n",
            "Unpacking libsuitesparseconfig5:amd64 (1:5.10.1+dfsg-4build1) ...\n",
            "Selecting previously unselected package libamd2:amd64.\n",
            "Preparing to unpack .../libamd2_1%3a5.10.1+dfsg-4build1_amd64.deb ...\n",
            "Unpacking libamd2:amd64 (1:5.10.1+dfsg-4build1) ...\n",
            "Selecting previously unselected package libcolamd2:amd64.\n",
            "Preparing to unpack .../libcolamd2_1%3a5.10.1+dfsg-4build1_amd64.deb ...\n",
            "Unpacking libcolamd2:amd64 (1:5.10.1+dfsg-4build1) ...\n",
            "Selecting previously unselected package libglpk40:amd64.\n",
            "Preparing to unpack .../libglpk40_5.0-1_amd64.deb ...\n",
            "Unpacking libglpk40:amd64 (5.0-1) ...\n",
            "Selecting previously unselected package glpk-utils.\n",
            "Preparing to unpack .../glpk-utils_5.0-1_amd64.deb ...\n",
            "Unpacking glpk-utils (5.0-1) ...\n",
            "Setting up libsuitesparseconfig5:amd64 (1:5.10.1+dfsg-4build1) ...\n",
            "Setting up libamd2:amd64 (1:5.10.1+dfsg-4build1) ...\n",
            "Setting up libcolamd2:amd64 (1:5.10.1+dfsg-4build1) ...\n",
            "Setting up libglpk40:amd64 (5.0-1) ...\n",
            "Setting up glpk-utils (5.0-1) ...\n",
            "Processing triggers for man-db (2.10.2-1) ...\n",
            "Processing triggers for libc-bin (2.35-0ubuntu3.8) ...\n",
            "/sbin/ldconfig.real: /usr/local/lib/libtcm.so.1 is not a symbolic link\n",
            "\n",
            "/sbin/ldconfig.real: /usr/local/lib/libtbbbind.so.3 is not a symbolic link\n",
            "\n",
            "/sbin/ldconfig.real: /usr/local/lib/libtcm_debug.so.1 is not a symbolic link\n",
            "\n",
            "/sbin/ldconfig.real: /usr/local/lib/libur_adapter_level_zero.so.0 is not a symbolic link\n",
            "\n",
            "/sbin/ldconfig.real: /usr/local/lib/libumf.so.0 is not a symbolic link\n",
            "\n",
            "/sbin/ldconfig.real: /usr/local/lib/libtbbbind_2_0.so.3 is not a symbolic link\n",
            "\n",
            "/sbin/ldconfig.real: /usr/local/lib/libur_loader.so.0 is not a symbolic link\n",
            "\n",
            "/sbin/ldconfig.real: /usr/local/lib/libtbbbind_2_5.so.3 is not a symbolic link\n",
            "\n",
            "/sbin/ldconfig.real: /usr/local/lib/libhwloc.so.15 is not a symbolic link\n",
            "\n",
            "/sbin/ldconfig.real: /usr/local/lib/libtbbmalloc_proxy.so.2 is not a symbolic link\n",
            "\n",
            "/sbin/ldconfig.real: /usr/local/lib/libur_adapter_opencl.so.0 is not a symbolic link\n",
            "\n",
            "/sbin/ldconfig.real: /usr/local/lib/libtbbmalloc.so.2 is not a symbolic link\n",
            "\n",
            "/sbin/ldconfig.real: /usr/local/lib/libtbb.so.12 is not a symbolic link\n",
            "\n"
          ]
        }
      ],
      "source": [
        "#Primeros pasos:\n",
        "\n",
        "#Instalar pyomo - cada vez que se use colab\n",
        "!pip install -q pyomo\n",
        "\n",
        "#Instalar un solver (solucionador) - GLPK (PL y PEM)\n",
        "!apt-get install -y -qq glpk-utils\n",
        "\n",
        "#Instalar el solver ipopt (PNL)\n",
        "import matplotlib.pyplot as plt\n",
        "!wget -N -q \"https://matematica.unipv.it/gualandi/solvers/ipopt-linux64.zip\"\n",
        "!unzip -o -q ipopt-linux64\n",
        "\n",
        "#Importar el módulo pyomo\n",
        "from pyomo.environ import *\n",
        "from pyomo.opt import SolverFactory"
      ]
    },
    {
      "cell_type": "markdown",
      "source": [
        "# Punto 2"
      ],
      "metadata": {
        "id": "18UO9iCwXSvx"
      }
    },
    {
      "cell_type": "code",
      "source": [
        "\"\"\"\n",
        "Modelo del Problema del Viajante (TSP) usando Pyomo\n",
        "\n",
        "Se minimiza el costo total de visitar todos los nodos exactamente una vez\n",
        "y regresar al nodo de origen ('home'), con una matriz de costos simétrica.\n",
        "\"\"\"\n",
        "\n",
        "# Crear el modelo concreto\n",
        "model = ConcreteModel()\n",
        "\n",
        "# Definir los nodos del grafo (home = 0)\n",
        "model.N = Set(initialize=[0, 1, 2, 3, 4])\n",
        "\n",
        "# Crear conjunto de pares de nodos para aristas posibles (i ≠ j)\n",
        "model.A = Set(dimen=2, initialize=[\n",
        "    (i, j) for i in model.N for j in model.N if i != j\n",
        "])\n",
        "\n",
        "# Definir los costos (matriz simétrica)\n",
        "costos = {\n",
        "    (0, 1): 30, (0, 2): 50, (0, 3): 45, (0, 4): 80,\n",
        "    (1, 0): 30, (1, 2): 25, (1, 3): 50, (1, 4): 50,\n",
        "    (2, 0): 50, (2, 1): 25, (2, 3): 40, (2, 4): 40,\n",
        "    (3, 0): 45, (3, 1): 50, (3, 2): 40, (3, 4): 35,\n",
        "    (4, 0): 80, (4, 1): 50, (4, 2): 40, (4, 3): 35,\n",
        "}\n",
        "\n",
        "# Definir el parámetro de costos\n",
        "model.c = Param(model.A, initialize=costos)\n",
        "\n",
        "# Variable binaria: 1 si se viaja de i a j, 0 en caso contrario\n",
        "model.x = Var(model.A, domain=Binary)\n",
        "\n",
        "# Variables auxiliares para eliminación de subciclos (método MTZ)\n",
        "model.u = Var(model.N, bounds=(0, len(model.N)-1))\n",
        "\n",
        "# Función objetivo: minimizar el costo total del recorrido\n",
        "model.obj = Objective(\n",
        "    expr=sum(model.c[i, j] * model.x[i, j] for (i, j) in model.A),\n",
        "    sense=minimize\n",
        ")\n",
        "\n",
        "# Restricción: una salida por cada nodo\n",
        "def salida_rule(model, i):\n",
        "    return sum(model.x[i, j] for j in model.N if j != i) == 1\n",
        "\n",
        "model.salida = Constraint(model.N, rule=salida_rule)\n",
        "\n",
        "# Restricción: una entrada a cada nodo\n",
        "def entrada_rule(model, j):\n",
        "    return sum(model.x[i, j] for i in model.N if i != j) == 1\n",
        "\n",
        "model.entrada = Constraint(model.N, rule=entrada_rule)\n",
        "\n",
        "# Restricciones MTZ para evitar subciclos\n",
        "def mtz_rule(model, i, j):\n",
        "    if i != 0 and j != 0 and i != j:\n",
        "        return model.u[i] - model.u[j] + \\\n",
        "            len(model.N) * model.x[i, j] <= len(model.N) - 1\n",
        "    return Constraint.Skip\n",
        "\n",
        "model.mtz = Constraint(model.A, rule=mtz_rule)\n",
        "\n",
        "# Crear el solver\n",
        "solver = SolverFactory('glpk')  # Puedes cambiar a 'cbc' o 'gurobi' si tienes\n",
        "\n",
        "# Resolver el modelo\n",
        "results = solver.solve(model)\n",
        "\n",
        "# Mostrar la solución óptima\n",
        "print(\"=== Solución Óptima del TSP ===\")\n",
        "\n",
        "# Reunir los pares de viajes según las variables diferentes a 0\n",
        "ruta_dict = {\n",
        "    i: j for (i, j) in model.A if value(model.x[i, j]) > 0.5\n",
        "}\n",
        "\n",
        "# Iniciar la ruta desde el nodo 0\n",
        "nodo_inicio = 0\n",
        "nodo_actual = nodo_inicio\n",
        "\n",
        "# Lista para guardar la secuencia de nodos\n",
        "ruta = [nodo_actual]\n",
        "\n",
        "# Reconstruir la ruta siguiendo los saltos en el diccionario\n",
        "while True:\n",
        "    siguiente = ruta_dict[nodo_actual]\n",
        "    ruta.append(siguiente)\n",
        "    nodo_actual = siguiente\n",
        "    if nodo_actual == nodo_inicio:\n",
        "        break\n",
        "\n",
        "# Imprimir la ruta óptima\n",
        "print(\"=== Ruta Óptima ===\")\n",
        "print(\" → \".join(str(n) for n in ruta))\n",
        "\n",
        "# Mostrar el costo total\n",
        "print(f\"Costo total mínimo: {value(model.obj)}\")\n"
      ],
      "metadata": {
        "id": "sfRUCMibX-oI",
        "colab": {
          "base_uri": "https://localhost:8080/"
        },
        "outputId": "c2fe95cf-3124-4628-ec3c-1f30e089d62b"
      },
      "execution_count": null,
      "outputs": [
        {
          "output_type": "stream",
          "name": "stdout",
          "text": [
            "=== Solución Óptima del TSP ===\n",
            "=== Ruta Óptima ===\n",
            "0 → 3 → 4 → 2 → 1 → 0\n",
            "Costo total mínimo: 175.0\n"
          ]
        }
      ]
    },
    {
      "cell_type": "markdown",
      "source": [
        "# Punto 3"
      ],
      "metadata": {
        "id": "MyrGBzgwXUXo"
      }
    },
    {
      "cell_type": "code",
      "source": [
        "\"\"\"\n",
        "Script de optimización de volumen de un prisma rectangular utilizando Pyomo\n",
        "y el solucionador IPOPT.\n",
        "\n",
        "Se busca maximizar el volumen de una caja rectangular sujeta a restricciones\n",
        "de perímetro, altura y dimensiones máximas.\n",
        "\n",
        "\"\"\"\n",
        "\n",
        "# Crear el modelo abstracto de Pyomo\n",
        "model3 = AbstractModel()\n",
        "\n",
        "# Definir la variable de decisión 'h' (altura de la caja)\n",
        "# Dominio: número real positivo (sin cota superior explícita aquí)\n",
        "model3.h = Var(bounds=(0.0, None))\n",
        "\n",
        "# Definir la variable de decisión 'x' (largo de la base)\n",
        "model3.x = Var(bounds=(0.0, None))\n",
        "\n",
        "# Definir la variable de decisión 'y' (ancho de la base)\n",
        "model3.y = Var(bounds=(0.0, None))\n",
        "\n",
        "# Definir la función objetivo\n",
        "# Objetivo: maximizar el volumen de la caja (x * y * h)\n",
        "model3.obj = Objective(\n",
        "    expr=model3.x * model3.y * model3.h,\n",
        "    sense=maximize\n",
        ")\n",
        "\n",
        "# Definir la restricción del perímetro de la base más la altura\n",
        "# Restricción: h + 2x + 2y ≤ 72\n",
        "model3.Rest0 = Constraint(\n",
        "    expr=model3.h + 2 * model3.x + 2 * model3.y <= 72\n",
        ")\n",
        "\n",
        "# Restricción: lado 'x' no debe superar los 42 cm\n",
        "model3.Rest1 = Constraint(\n",
        "    expr=model3.x <= 42\n",
        ")\n",
        "\n",
        "# Restricción: lado 'y' no debe superar los 42 cm\n",
        "model3.Rest2 = Constraint(\n",
        "    expr=model3.y <= 42\n",
        ")\n",
        "\n",
        "# Restricción: altura 'h' no debe superar los 42 cm\n",
        "model3.Rest3 = Constraint(\n",
        "    expr=model3.h <= 42\n",
        ")\n",
        "\n",
        "# Crear el solucionador utilizando IPOPT\n",
        "# Se proporciona la ruta explícita del ejecutable (ej. en Google Colab)\n",
        "opt = SolverFactory('ipopt', executable='/content/ipopt')\n",
        "\n",
        "# Crear una instancia del modelo abstracto para resolverlo\n",
        "instance = model3.create_instance()\n",
        "\n",
        "# Ejecutar la resolución del modelo usando el solver definido\n",
        "results = opt.solve(instance)\n",
        "\n",
        "if (results.solver.termination_condition.name == 'optimal'):\n",
        "\n",
        "    # Obtener el valor óptimo de la variable 'x' (largo)\n",
        "    x_opt = instance.x()\n",
        "\n",
        "    # Obtener el valor óptimo de la variable 'y' (ancho)\n",
        "    y_opt = instance.y()\n",
        "\n",
        "    # Obtener el valor óptimo de la variable 'h' (altura)\n",
        "    h_opt = instance.h()\n",
        "\n",
        "    # Calcular el volumen máximo alcanzado\n",
        "    volumen_max = x_opt * y_opt * h_opt\n",
        "\n",
        "    # Imprimir los resultados con formato y unidades\n",
        "    print(\"==== RESULTADOS ÓPTIMOS ====\")\n",
        "    print(f\"Largo (x): {x_opt:.2f} unidades\")\n",
        "    print(f\"Ancho (y): {y_opt:.2f} unidades\")\n",
        "    print(f\"Altura (h): {h_opt:.2f} unidades\")\n",
        "    print(f\"Volumen máximo: {volumen_max:.2f} unidades cúbicas\")\n",
        "\n",
        "# En caso de que no se encuentre solución óptima\n",
        "else:\n",
        "    print(\"No se encontró una solución óptima.\")"
      ],
      "metadata": {
        "id": "hVWEjijrXUvQ",
        "colab": {
          "base_uri": "https://localhost:8080/"
        },
        "outputId": "2350d62e-105d-4700-abcf-53ef71f59204"
      },
      "execution_count": null,
      "outputs": [
        {
          "output_type": "stream",
          "name": "stdout",
          "text": [
            "==== RESULTADOS ÓPTIMOS ====\n",
            "Largo (x): 12.00 unidades\n",
            "Ancho (y): 12.00 unidades\n",
            "Altura (h): 24.00 unidades\n",
            "Volumen máximo: 3456.00 unidades cúbicas\n"
          ]
        }
      ]
    }
  ]
}